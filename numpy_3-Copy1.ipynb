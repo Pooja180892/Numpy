{
 "cells": [
  {
   "cell_type": "code",
   "execution_count": 4,
   "id": "7e2d820d",
   "metadata": {},
   "outputs": [],
   "source": [
    "import numpy as np"
   ]
  },
  {
   "cell_type": "code",
   "execution_count": 5,
   "id": "b56fa7c3",
   "metadata": {},
   "outputs": [
    {
     "name": "stdout",
     "output_type": "stream",
     "text": [
      "['In', 'Out', '_', '_2', '__', '___', '__builtin__', '__builtins__', '__doc__', '__loader__', '__name__', '__package__', '__spec__', '_dh', '_i', '_i1', '_i2', '_i3', '_i4', '_i5', '_ih', '_ii', '_iii', '_oh', 'exit', 'get_ipython', 'np', 'quit']\n"
     ]
    }
   ],
   "source": [
    "print(dir())"
   ]
  },
  {
   "cell_type": "code",
   "execution_count": 2,
   "id": "143e8c9a",
   "metadata": {},
   "outputs": [
    {
     "data": {
      "text/plain": [
       "array([[ True,  True,  True,  True],\n",
       "       [ True,  True,  True,  True],\n",
       "       [ True,  True,  True,  True],\n",
       "       [ True,  True,  True,  True]])"
      ]
     },
     "execution_count": 2,
     "metadata": {},
     "output_type": "execute_result"
    }
   ],
   "source": [
    "# I want 4x4 numpy array whose all value set to True\n",
    "np.full((4,4),fill_value=True)"
   ]
  },
  {
   "cell_type": "code",
   "execution_count": 4,
   "id": "f10b8bab",
   "metadata": {},
   "outputs": [
    {
     "data": {
      "text/plain": [
       "array([[ True,  True,  True,  True],\n",
       "       [ True,  True,  True,  True],\n",
       "       [ True,  True,  True,  True],\n",
       "       [ True,  True,  True,  True]])"
      ]
     },
     "execution_count": 4,
     "metadata": {},
     "output_type": "execute_result"
    }
   ],
   "source": [
    "np.ones((4,4),dtype=bool)"
   ]
  },
  {
   "cell_type": "code",
   "execution_count": 5,
   "id": "a8f4dbf4",
   "metadata": {},
   "outputs": [
    {
     "data": {
      "text/plain": [
       "array([[False, False, False, False],\n",
       "       [False, False, False, False],\n",
       "       [False, False, False, False],\n",
       "       [False, False, False, False]])"
      ]
     },
     "execution_count": 5,
     "metadata": {},
     "output_type": "execute_result"
    }
   ],
   "source": [
    "# I want 4x4 numpy array whose all value set to False\n",
    "np.zeros((4,4),dtype=bool)"
   ]
  },
  {
   "cell_type": "code",
   "execution_count": 7,
   "id": "74310ead",
   "metadata": {},
   "outputs": [
    {
     "data": {
      "text/plain": [
       "array([[ True, False, False, False],\n",
       "       [False,  True, False, False],\n",
       "       [False, False,  True, False],\n",
       "       [False, False, False,  True]])"
      ]
     },
     "execution_count": 7,
     "metadata": {},
     "output_type": "execute_result"
    }
   ],
   "source": [
    "# I want 4x4 numpy array whose diagonal value set to True and non diagonal False\n",
    "np.identity(4,dtype=bool)"
   ]
  },
  {
   "cell_type": "code",
   "execution_count": 9,
   "id": "012f20b6",
   "metadata": {},
   "outputs": [
    {
     "data": {
      "text/plain": [
       "array([[ True, False, False, False],\n",
       "       [False,  True, False, False],\n",
       "       [False, False,  True, False],\n",
       "       [False, False, False,  True]])"
      ]
     },
     "execution_count": 9,
     "metadata": {},
     "output_type": "execute_result"
    }
   ],
   "source": [
    "np.eye(4,dtype=bool)"
   ]
  },
  {
   "cell_type": "code",
   "execution_count": null,
   "id": "e0dec33f",
   "metadata": {},
   "outputs": [],
   "source": [
    "#Assignment: I want 4x4 numpy array whose diagonal value set to False and non diagonal True"
   ]
  },
  {
   "cell_type": "markdown",
   "id": "2206829e",
   "metadata": {},
   "source": [
    "# Check different properties of numpy array"
   ]
  },
  {
   "cell_type": "code",
   "execution_count": 10,
   "id": "817aef5b",
   "metadata": {},
   "outputs": [
    {
     "data": {
      "text/plain": [
       "array([[0.04449577, 0.00797512, 0.03953419, 0.82632261],\n",
       "       [0.10459743, 0.52350595, 0.15486459, 0.53727578],\n",
       "       [0.62102901, 0.7862436 , 0.36283854, 0.81678047],\n",
       "       [0.66890566, 0.9083547 , 0.76749782, 0.86331666]])"
      ]
     },
     "execution_count": 10,
     "metadata": {},
     "output_type": "execute_result"
    }
   ],
   "source": [
    "a = np.random.random((4,4))\n",
    "a"
   ]
  },
  {
   "cell_type": "code",
   "execution_count": 11,
   "id": "7f380b27",
   "metadata": {},
   "outputs": [
    {
     "data": {
      "text/plain": [
       "16"
      ]
     },
     "execution_count": 11,
     "metadata": {},
     "output_type": "execute_result"
    }
   ],
   "source": [
    "# size: total elements present\n",
    "a.size"
   ]
  },
  {
   "cell_type": "code",
   "execution_count": 14,
   "id": "72d17b5f",
   "metadata": {},
   "outputs": [
    {
     "data": {
      "text/plain": [
       "(4, 4)"
      ]
     },
     "execution_count": 14,
     "metadata": {},
     "output_type": "execute_result"
    }
   ],
   "source": [
    "# check shape\n",
    "a.shape"
   ]
  },
  {
   "cell_type": "code",
   "execution_count": 15,
   "id": "6033dec7",
   "metadata": {},
   "outputs": [
    {
     "name": "stdout",
     "output_type": "stream",
     "text": [
      "Total number of rows 4\n",
      "Total number of columns 4\n"
     ]
    }
   ],
   "source": [
    "print('Total number of rows',a.shape[0])\n",
    "print('Total number of columns',a.shape[1])"
   ]
  },
  {
   "cell_type": "code",
   "execution_count": 16,
   "id": "e473491b",
   "metadata": {},
   "outputs": [
    {
     "data": {
      "text/plain": [
       "8"
      ]
     },
     "execution_count": 16,
     "metadata": {},
     "output_type": "execute_result"
    }
   ],
   "source": [
    "# a memory in bytes to each element\n",
    "a.itemsize"
   ]
  },
  {
   "cell_type": "code",
   "execution_count": 18,
   "id": "4646b0bc",
   "metadata": {},
   "outputs": [
    {
     "data": {
      "text/plain": [
       "dtype('float64')"
      ]
     },
     "execution_count": 18,
     "metadata": {},
     "output_type": "execute_result"
    }
   ],
   "source": [
    "# check data type\n",
    "a.dtype"
   ]
  },
  {
   "cell_type": "code",
   "execution_count": 19,
   "id": "dcead029",
   "metadata": {},
   "outputs": [
    {
     "data": {
      "text/plain": [
       "<memory at 0x000002005942D450>"
      ]
     },
     "execution_count": 19,
     "metadata": {},
     "output_type": "execute_result"
    }
   ],
   "source": [
    "# check a memory\n",
    "a.data"
   ]
  },
  {
   "cell_type": "code",
   "execution_count": 20,
   "id": "491fdcbb",
   "metadata": {},
   "outputs": [
    {
     "data": {
      "text/plain": [
       "2"
      ]
     },
     "execution_count": 20,
     "metadata": {},
     "output_type": "execute_result"
    }
   ],
   "source": [
    "#check dimension\n",
    "a.ndim"
   ]
  },
  {
   "cell_type": "markdown",
   "id": "2a7558ca",
   "metadata": {},
   "source": [
    "# Shape manipulation"
   ]
  },
  {
   "cell_type": "code",
   "execution_count": 24,
   "id": "ac125ecb",
   "metadata": {},
   "outputs": [
    {
     "name": "stdout",
     "output_type": "stream",
     "text": [
      "[[0.04449577 0.00797512 0.03953419 0.82632261]\n",
      " [0.10459743 0.52350595 0.15486459 0.53727578]\n",
      " [0.62102901 0.7862436  0.36283854 0.81678047]\n",
      " [0.66890566 0.9083547  0.76749782 0.86331666]]\n",
      "[[0.04449577 0.00797512 0.03953419 0.82632261]\n",
      " [0.10459743 0.52350595 0.15486459 0.53727578]\n",
      " [0.62102901 0.7862436  0.36283854 0.81678047]\n",
      " [0.66890566 0.9083547  0.76749782 0.86331666]]\n",
      "Ganesh\n"
     ]
    }
   ],
   "source": [
    "print(a)\n",
    "print(a)\n",
    "print('Ganesh')"
   ]
  },
  {
   "cell_type": "code",
   "execution_count": 25,
   "id": "ae4c2a63",
   "metadata": {},
   "outputs": [
    {
     "data": {
      "text/plain": [
       "array([[0.04449577, 0.00797512, 0.03953419, 0.82632261],\n",
       "       [0.10459743, 0.52350595, 0.15486459, 0.53727578],\n",
       "       [0.62102901, 0.7862436 , 0.36283854, 0.81678047],\n",
       "       [0.66890566, 0.9083547 , 0.76749782, 0.86331666]])"
      ]
     },
     "metadata": {},
     "output_type": "display_data"
    },
    {
     "data": {
      "text/plain": [
       "array([[0.04449577, 0.00797512, 0.03953419, 0.82632261],\n",
       "       [0.10459743, 0.52350595, 0.15486459, 0.53727578],\n",
       "       [0.62102901, 0.7862436 , 0.36283854, 0.81678047],\n",
       "       [0.66890566, 0.9083547 , 0.76749782, 0.86331666]])"
      ]
     },
     "metadata": {},
     "output_type": "display_data"
    },
    {
     "data": {
      "text/plain": [
       "'Ganesh'"
      ]
     },
     "metadata": {},
     "output_type": "display_data"
    }
   ],
   "source": [
    "display(a,a,'Ganesh')"
   ]
  },
  {
   "cell_type": "code",
   "execution_count": 26,
   "id": "35ce3724",
   "metadata": {},
   "outputs": [
    {
     "data": {
      "text/plain": [
       "(4, 4)"
      ]
     },
     "execution_count": 26,
     "metadata": {},
     "output_type": "execute_result"
    }
   ],
   "source": [
    "#shape\n",
    "a.shape"
   ]
  },
  {
   "cell_type": "code",
   "execution_count": null,
   "id": "cf52fd31",
   "metadata": {},
   "outputs": [],
   "source": [
    "# 16 eleements: \n",
    "# 1,16\n",
    "# 2,8\n",
    "# 8,2\n",
    "# 4,4\n",
    "# 16,1\n",
    "#---- 3D\n",
    "\"\"\"\n",
    "1,4,4\n",
    "2,2,4\n",
    "4,2,2\n",
    "\"\"\"\n"
   ]
  },
  {
   "cell_type": "markdown",
   "id": "9a22a6b6",
   "metadata": {},
   "source": [
    "## reshape():it changes shape temp."
   ]
  },
  {
   "cell_type": "code",
   "execution_count": 28,
   "id": "9a235c54",
   "metadata": {},
   "outputs": [
    {
     "data": {
      "text/plain": [
       "array([[0.04449577, 0.00797512],\n",
       "       [0.03953419, 0.82632261],\n",
       "       [0.10459743, 0.52350595],\n",
       "       [0.15486459, 0.53727578],\n",
       "       [0.62102901, 0.7862436 ],\n",
       "       [0.36283854, 0.81678047],\n",
       "       [0.66890566, 0.9083547 ],\n",
       "       [0.76749782, 0.86331666]])"
      ]
     },
     "execution_count": 28,
     "metadata": {},
     "output_type": "execute_result"
    }
   ],
   "source": [
    "# convert shape to 8(rows)x2(columns)\n",
    "a.reshape(8,2)"
   ]
  },
  {
   "cell_type": "code",
   "execution_count": 29,
   "id": "2bf3a090",
   "metadata": {},
   "outputs": [
    {
     "data": {
      "text/plain": [
       "array([[[0.04449577, 0.00797512],\n",
       "        [0.03953419, 0.82632261],\n",
       "        [0.10459743, 0.52350595],\n",
       "        [0.15486459, 0.53727578]],\n",
       "\n",
       "       [[0.62102901, 0.7862436 ],\n",
       "        [0.36283854, 0.81678047],\n",
       "        [0.66890566, 0.9083547 ],\n",
       "        [0.76749782, 0.86331666]]])"
      ]
     },
     "execution_count": 29,
     "metadata": {},
     "output_type": "execute_result"
    }
   ],
   "source": [
    "#3D using reshape\n",
    "# 2x4x2\n",
    "a.reshape(2,4,2)"
   ]
  },
  {
   "cell_type": "code",
   "execution_count": 30,
   "id": "b153c9fb",
   "metadata": {},
   "outputs": [
    {
     "data": {
      "text/plain": [
       "array([[0.04449577, 0.00797512, 0.03953419, 0.82632261],\n",
       "       [0.10459743, 0.52350595, 0.15486459, 0.53727578],\n",
       "       [0.62102901, 0.7862436 , 0.36283854, 0.81678047],\n",
       "       [0.66890566, 0.9083547 , 0.76749782, 0.86331666]])"
      ]
     },
     "execution_count": 30,
     "metadata": {},
     "output_type": "execute_result"
    }
   ],
   "source": [
    "a # a is unchanged"
   ]
  },
  {
   "cell_type": "markdown",
   "id": "48892ca1",
   "metadata": {},
   "source": [
    "## resize(): to do changes permanently"
   ]
  },
  {
   "cell_type": "code",
   "execution_count": 31,
   "id": "f41caba0",
   "metadata": {},
   "outputs": [
    {
     "data": {
      "text/plain": [
       "array([[0.04449577, 0.00797512, 0.03953419, 0.82632261],\n",
       "       [0.10459743, 0.52350595, 0.15486459, 0.53727578],\n",
       "       [0.62102901, 0.7862436 , 0.36283854, 0.81678047],\n",
       "       [0.66890566, 0.9083547 , 0.76749782, 0.86331666]])"
      ]
     },
     "execution_count": 31,
     "metadata": {},
     "output_type": "execute_result"
    }
   ],
   "source": [
    "a"
   ]
  },
  {
   "cell_type": "code",
   "execution_count": 32,
   "id": "4f360341",
   "metadata": {},
   "outputs": [
    {
     "data": {
      "text/plain": [
       "(4, 4)"
      ]
     },
     "execution_count": 32,
     "metadata": {},
     "output_type": "execute_result"
    }
   ],
   "source": [
    "a.shape"
   ]
  },
  {
   "cell_type": "code",
   "execution_count": 33,
   "id": "7ad83414",
   "metadata": {},
   "outputs": [],
   "source": [
    "#convert into 1D permenantly\n",
    "a.resize(16)"
   ]
  },
  {
   "cell_type": "code",
   "execution_count": 34,
   "id": "94680ae1",
   "metadata": {},
   "outputs": [
    {
     "data": {
      "text/plain": [
       "array([0.04449577, 0.00797512, 0.03953419, 0.82632261, 0.10459743,\n",
       "       0.52350595, 0.15486459, 0.53727578, 0.62102901, 0.7862436 ,\n",
       "       0.36283854, 0.81678047, 0.66890566, 0.9083547 , 0.76749782,\n",
       "       0.86331666])"
      ]
     },
     "execution_count": 34,
     "metadata": {},
     "output_type": "execute_result"
    }
   ],
   "source": [
    "a"
   ]
  },
  {
   "cell_type": "code",
   "execution_count": 35,
   "id": "5ede1c97",
   "metadata": {},
   "outputs": [
    {
     "data": {
      "text/plain": [
       "1"
      ]
     },
     "execution_count": 35,
     "metadata": {},
     "output_type": "execute_result"
    }
   ],
   "source": [
    "a.ndim"
   ]
  },
  {
   "cell_type": "code",
   "execution_count": 36,
   "id": "c013e1cf",
   "metadata": {},
   "outputs": [
    {
     "data": {
      "text/plain": [
       "(16,)"
      ]
     },
     "execution_count": 36,
     "metadata": {},
     "output_type": "execute_result"
    }
   ],
   "source": [
    "a.shape"
   ]
  },
  {
   "cell_type": "code",
   "execution_count": 37,
   "id": "33d483e2",
   "metadata": {},
   "outputs": [],
   "source": [
    "# lets change to 2D\n",
    "a.resize((4,4))"
   ]
  },
  {
   "cell_type": "code",
   "execution_count": 38,
   "id": "c0b2279b",
   "metadata": {},
   "outputs": [
    {
     "data": {
      "text/plain": [
       "array([[0.04449577, 0.00797512, 0.03953419, 0.82632261],\n",
       "       [0.10459743, 0.52350595, 0.15486459, 0.53727578],\n",
       "       [0.62102901, 0.7862436 , 0.36283854, 0.81678047],\n",
       "       [0.66890566, 0.9083547 , 0.76749782, 0.86331666]])"
      ]
     },
     "execution_count": 38,
     "metadata": {},
     "output_type": "execute_result"
    }
   ],
   "source": [
    "a"
   ]
  },
  {
   "cell_type": "code",
   "execution_count": 39,
   "id": "cddd2c2b",
   "metadata": {},
   "outputs": [
    {
     "data": {
      "text/plain": [
       "(4, 4)"
      ]
     },
     "execution_count": 39,
     "metadata": {},
     "output_type": "execute_result"
    }
   ],
   "source": [
    "a.shape"
   ]
  },
  {
   "cell_type": "code",
   "execution_count": 40,
   "id": "79b6697b",
   "metadata": {},
   "outputs": [],
   "source": [
    "# Convert to 3D\n",
    "a.resize(4,2,2)"
   ]
  },
  {
   "cell_type": "code",
   "execution_count": 41,
   "id": "0e7050ff",
   "metadata": {},
   "outputs": [
    {
     "data": {
      "text/plain": [
       "array([[[0.04449577, 0.00797512],\n",
       "        [0.03953419, 0.82632261]],\n",
       "\n",
       "       [[0.10459743, 0.52350595],\n",
       "        [0.15486459, 0.53727578]],\n",
       "\n",
       "       [[0.62102901, 0.7862436 ],\n",
       "        [0.36283854, 0.81678047]],\n",
       "\n",
       "       [[0.66890566, 0.9083547 ],\n",
       "        [0.76749782, 0.86331666]]])"
      ]
     },
     "execution_count": 41,
     "metadata": {},
     "output_type": "execute_result"
    }
   ],
   "source": [
    "a"
   ]
  },
  {
   "cell_type": "code",
   "execution_count": 42,
   "id": "33067c48",
   "metadata": {},
   "outputs": [
    {
     "data": {
      "text/plain": [
       "3"
      ]
     },
     "execution_count": 42,
     "metadata": {},
     "output_type": "execute_result"
    }
   ],
   "source": [
    "a.ndim"
   ]
  },
  {
   "cell_type": "code",
   "execution_count": 43,
   "id": "3e8839d0",
   "metadata": {},
   "outputs": [
    {
     "data": {
      "text/plain": [
       "(4, 2, 2)"
      ]
     },
     "execution_count": 43,
     "metadata": {},
     "output_type": "execute_result"
    }
   ],
   "source": [
    "a.shape"
   ]
  },
  {
   "cell_type": "raw",
   "id": "32596d0b",
   "metadata": {},
   "source": [
    "#Q. Differentiate resize and reshape????"
   ]
  },
  {
   "cell_type": "code",
   "execution_count": 44,
   "id": "4ff39a0a",
   "metadata": {},
   "outputs": [
    {
     "data": {
      "text/plain": [
       "(4, 2, 2)"
      ]
     },
     "execution_count": 44,
     "metadata": {},
     "output_type": "execute_result"
    }
   ],
   "source": [
    "a.shape"
   ]
  },
  {
   "cell_type": "code",
   "execution_count": 45,
   "id": "2c10b149",
   "metadata": {},
   "outputs": [
    {
     "data": {
      "text/plain": [
       "array([[[0.04449577, 0.00797512],\n",
       "        [0.03953419, 0.82632261]],\n",
       "\n",
       "       [[0.10459743, 0.52350595],\n",
       "        [0.15486459, 0.53727578]],\n",
       "\n",
       "       [[0.62102901, 0.7862436 ],\n",
       "        [0.36283854, 0.81678047]],\n",
       "\n",
       "       [[0.66890566, 0.9083547 ],\n",
       "        [0.76749782, 0.86331666]]])"
      ]
     },
     "execution_count": 45,
     "metadata": {},
     "output_type": "execute_result"
    }
   ],
   "source": [
    "a"
   ]
  },
  {
   "cell_type": "code",
   "execution_count": 47,
   "id": "cc39b69c",
   "metadata": {},
   "outputs": [],
   "source": [
    "a.shape  = (2,8)"
   ]
  },
  {
   "cell_type": "code",
   "execution_count": 48,
   "id": "a2314913",
   "metadata": {},
   "outputs": [
    {
     "data": {
      "text/plain": [
       "array([[0.04449577, 0.00797512, 0.03953419, 0.82632261, 0.10459743,\n",
       "        0.52350595, 0.15486459, 0.53727578],\n",
       "       [0.62102901, 0.7862436 , 0.36283854, 0.81678047, 0.66890566,\n",
       "        0.9083547 , 0.76749782, 0.86331666]])"
      ]
     },
     "execution_count": 48,
     "metadata": {},
     "output_type": "execute_result"
    }
   ],
   "source": [
    "a"
   ]
  },
  {
   "cell_type": "code",
   "execution_count": 49,
   "id": "48eba7cd",
   "metadata": {},
   "outputs": [
    {
     "data": {
      "text/plain": [
       "(2, 8)"
      ]
     },
     "execution_count": 49,
     "metadata": {},
     "output_type": "execute_result"
    }
   ],
   "source": [
    "a.shape"
   ]
  },
  {
   "cell_type": "code",
   "execution_count": 50,
   "id": "2af14ce5",
   "metadata": {},
   "outputs": [
    {
     "data": {
      "text/plain": [
       "16"
      ]
     },
     "execution_count": 50,
     "metadata": {},
     "output_type": "execute_result"
    }
   ],
   "source": [
    "a.size"
   ]
  },
  {
   "cell_type": "code",
   "execution_count": 51,
   "id": "e603e9a0",
   "metadata": {},
   "outputs": [
    {
     "ename": "ValueError",
     "evalue": "cannot reshape array of size 16 into shape (7,8)",
     "output_type": "error",
     "traceback": [
      "\u001b[1;31m---------------------------------------------------------------------------\u001b[0m",
      "\u001b[1;31mValueError\u001b[0m                                Traceback (most recent call last)",
      "\u001b[1;32m~\\AppData\\Local\\Temp/ipykernel_13132/218647351.py\u001b[0m in \u001b[0;36m<module>\u001b[1;34m\u001b[0m\n\u001b[1;32m----> 1\u001b[1;33m \u001b[0ma\u001b[0m\u001b[1;33m.\u001b[0m\u001b[0mreshape\u001b[0m\u001b[1;33m(\u001b[0m\u001b[1;36m7\u001b[0m\u001b[1;33m,\u001b[0m\u001b[1;36m8\u001b[0m\u001b[1;33m)\u001b[0m\u001b[1;33m\u001b[0m\u001b[1;33m\u001b[0m\u001b[0m\n\u001b[0m",
      "\u001b[1;31mValueError\u001b[0m: cannot reshape array of size 16 into shape (7,8)"
     ]
    }
   ],
   "source": [
    "a.reshape(7,8)"
   ]
  },
  {
   "cell_type": "code",
   "execution_count": 58,
   "id": "a0fbb424",
   "metadata": {},
   "outputs": [
    {
     "data": {
      "text/plain": [
       "array([1, 2, 3, 4, 5])"
      ]
     },
     "execution_count": 58,
     "metadata": {},
     "output_type": "execute_result"
    }
   ],
   "source": [
    "x = np.array([1,2,3,4,5])\n",
    "x"
   ]
  },
  {
   "cell_type": "code",
   "execution_count": 59,
   "id": "a237886f",
   "metadata": {},
   "outputs": [
    {
     "data": {
      "text/plain": [
       "dtype('int32')"
      ]
     },
     "execution_count": 59,
     "metadata": {},
     "output_type": "execute_result"
    }
   ],
   "source": [
    "x.dtype"
   ]
  },
  {
   "cell_type": "code",
   "execution_count": 60,
   "id": "98338750",
   "metadata": {},
   "outputs": [
    {
     "data": {
      "text/plain": [
       "124"
      ]
     },
     "execution_count": 60,
     "metadata": {},
     "output_type": "execute_result"
    }
   ],
   "source": [
    "x.__sizeof__()"
   ]
  },
  {
   "cell_type": "code",
   "execution_count": 61,
   "id": "1d78c750",
   "metadata": {},
   "outputs": [
    {
     "data": {
      "text/plain": [
       "array([1, 2, 3, 4, 5], dtype=object)"
      ]
     },
     "execution_count": 61,
     "metadata": {},
     "output_type": "execute_result"
    }
   ],
   "source": [
    "y = np.array([1,2,3,4,5],dtype=object)\n",
    "y"
   ]
  },
  {
   "cell_type": "code",
   "execution_count": 62,
   "id": "315dced7",
   "metadata": {},
   "outputs": [
    {
     "data": {
      "text/plain": [
       "144"
      ]
     },
     "execution_count": 62,
     "metadata": {},
     "output_type": "execute_result"
    }
   ],
   "source": [
    "y.__sizeof__()"
   ]
  },
  {
   "cell_type": "markdown",
   "id": "d80b4634",
   "metadata": {},
   "source": [
    "## transpose: convert row to column and viceversa"
   ]
  },
  {
   "cell_type": "code",
   "execution_count": null,
   "id": "2764a0bb",
   "metadata": {},
   "outputs": [],
   "source": []
  },
  {
   "cell_type": "code",
   "execution_count": 52,
   "id": "4a416db9",
   "metadata": {},
   "outputs": [
    {
     "data": {
      "text/plain": [
       "array([[0.04449577, 0.00797512, 0.03953419, 0.82632261, 0.10459743,\n",
       "        0.52350595, 0.15486459, 0.53727578],\n",
       "       [0.62102901, 0.7862436 , 0.36283854, 0.81678047, 0.66890566,\n",
       "        0.9083547 , 0.76749782, 0.86331666]])"
      ]
     },
     "execution_count": 52,
     "metadata": {},
     "output_type": "execute_result"
    }
   ],
   "source": [
    "a"
   ]
  },
  {
   "cell_type": "code",
   "execution_count": 53,
   "id": "f4e61567",
   "metadata": {},
   "outputs": [
    {
     "data": {
      "text/plain": [
       "(2, 8)"
      ]
     },
     "execution_count": 53,
     "metadata": {},
     "output_type": "execute_result"
    }
   ],
   "source": [
    "a.shape"
   ]
  },
  {
   "cell_type": "code",
   "execution_count": 54,
   "id": "a81c87a2",
   "metadata": {},
   "outputs": [
    {
     "data": {
      "text/plain": [
       "array([[0.04449577, 0.62102901],\n",
       "       [0.00797512, 0.7862436 ],\n",
       "       [0.03953419, 0.36283854],\n",
       "       [0.82632261, 0.81678047],\n",
       "       [0.10459743, 0.66890566],\n",
       "       [0.52350595, 0.9083547 ],\n",
       "       [0.15486459, 0.76749782],\n",
       "       [0.53727578, 0.86331666]])"
      ]
     },
     "execution_count": 54,
     "metadata": {},
     "output_type": "execute_result"
    }
   ],
   "source": [
    "a.transpose() #changes are temp."
   ]
  },
  {
   "cell_type": "code",
   "execution_count": 55,
   "id": "235f46f1",
   "metadata": {},
   "outputs": [
    {
     "data": {
      "text/plain": [
       "array([[0.04449577, 0.62102901],\n",
       "       [0.00797512, 0.7862436 ],\n",
       "       [0.03953419, 0.36283854],\n",
       "       [0.82632261, 0.81678047],\n",
       "       [0.10459743, 0.66890566],\n",
       "       [0.52350595, 0.9083547 ],\n",
       "       [0.15486459, 0.76749782],\n",
       "       [0.53727578, 0.86331666]])"
      ]
     },
     "execution_count": 55,
     "metadata": {},
     "output_type": "execute_result"
    }
   ],
   "source": [
    "a.T #transpose operation temp."
   ]
  },
  {
   "cell_type": "code",
   "execution_count": 56,
   "id": "aad37e30",
   "metadata": {},
   "outputs": [
    {
     "data": {
      "text/plain": [
       "array([[0.04449577, 0.62102901],\n",
       "       [0.00797512, 0.7862436 ],\n",
       "       [0.03953419, 0.36283854],\n",
       "       [0.82632261, 0.81678047],\n",
       "       [0.10459743, 0.66890566],\n",
       "       [0.52350595, 0.9083547 ],\n",
       "       [0.15486459, 0.76749782],\n",
       "       [0.53727578, 0.86331666]])"
      ]
     },
     "execution_count": 56,
     "metadata": {},
     "output_type": "execute_result"
    }
   ],
   "source": [
    "np.transpose(a)"
   ]
  },
  {
   "cell_type": "code",
   "execution_count": 57,
   "id": "80a1d0e8",
   "metadata": {},
   "outputs": [
    {
     "data": {
      "text/plain": [
       "(2, 8)"
      ]
     },
     "execution_count": 57,
     "metadata": {},
     "output_type": "execute_result"
    }
   ],
   "source": [
    "a.shape #transpose changes"
   ]
  },
  {
   "cell_type": "code",
   "execution_count": 64,
   "id": "9f5aec68",
   "metadata": {},
   "outputs": [
    {
     "ename": "NameError",
     "evalue": "name 'nnp' is not defined",
     "output_type": "error",
     "traceback": [
      "\u001b[1;31m---------------------------------------------------------------------------\u001b[0m",
      "\u001b[1;31mNameError\u001b[0m                                 Traceback (most recent call last)",
      "\u001b[1;32m~\\AppData\\Local\\Temp/ipykernel_13132/4188970458.py\u001b[0m in \u001b[0;36m<module>\u001b[1;34m\u001b[0m\n\u001b[1;32m----> 1\u001b[1;33m \u001b[0mnnp\u001b[0m\u001b[1;33m\u001b[0m\u001b[1;33m\u001b[0m\u001b[0m\n\u001b[0m",
      "\u001b[1;31mNameError\u001b[0m: name 'nnp' is not defined"
     ]
    }
   ],
   "source": [
    "nnp"
   ]
  },
  {
   "cell_type": "markdown",
   "id": "3fe09315",
   "metadata": {},
   "source": [
    "# Indexing over numpy"
   ]
  },
  {
   "cell_type": "code",
   "execution_count": null,
   "id": "d2140f49",
   "metadata": {},
   "outputs": [],
   "source": [
    "b = np.arange(1,25).reshape(6,4)\n",
    "b"
   ]
  },
  {
   "cell_type": "code",
   "execution_count": null,
   "id": "922505db",
   "metadata": {},
   "outputs": [],
   "source": [
    "# indexing in numpy works on rows\n",
    "b[0]"
   ]
  },
  {
   "cell_type": "code",
   "execution_count": null,
   "id": "20a261b2",
   "metadata": {},
   "outputs": [],
   "source": [
    "b[4]"
   ]
  },
  {
   "cell_type": "code",
   "execution_count": null,
   "id": "b5c916e0",
   "metadata": {},
   "outputs": [],
   "source": [
    "#access 11\n",
    "b[2]"
   ]
  },
  {
   "cell_type": "code",
   "execution_count": null,
   "id": "e970c405",
   "metadata": {},
   "outputs": [],
   "source": [
    "b[2][2]"
   ]
  },
  {
   "cell_type": "code",
   "execution_count": null,
   "id": "ca644ea9",
   "metadata": {},
   "outputs": [],
   "source": [
    "b[2,2]"
   ]
  },
  {
   "cell_type": "code",
   "execution_count": null,
   "id": "332dced6",
   "metadata": {},
   "outputs": [],
   "source": [
    "#acess 20\n",
    "b[4,3]"
   ]
  },
  {
   "cell_type": "code",
   "execution_count": null,
   "id": "d7710434",
   "metadata": {},
   "outputs": [],
   "source": [
    "#access 6\n",
    "b[1,1]"
   ]
  },
  {
   "cell_type": "code",
   "execution_count": null,
   "id": "69368c23",
   "metadata": {},
   "outputs": [],
   "source": [
    "c = b.reshape(3,4,2)\n",
    "c"
   ]
  },
  {
   "cell_type": "code",
   "execution_count": null,
   "id": "28d1b3be",
   "metadata": {},
   "outputs": [],
   "source": [
    "#access 12\n",
    "c[1,1,1]"
   ]
  },
  {
   "cell_type": "code",
   "execution_count": null,
   "id": "da5bdab6",
   "metadata": {},
   "outputs": [],
   "source": [
    "#access 7\n",
    "c[0,3,0]"
   ]
  },
  {
   "cell_type": "code",
   "execution_count": null,
   "id": "61f64374",
   "metadata": {},
   "outputs": [],
   "source": [
    "#access18\n",
    "c[2,0,1]"
   ]
  },
  {
   "cell_type": "markdown",
   "id": "a0611a74",
   "metadata": {},
   "source": [
    "# slicing"
   ]
  },
  {
   "cell_type": "code",
   "execution_count": null,
   "id": "65359e98",
   "metadata": {},
   "outputs": [],
   "source": [
    "b"
   ]
  },
  {
   "cell_type": "code",
   "execution_count": null,
   "id": "1ed191db",
   "metadata": {},
   "outputs": [],
   "source": [
    "#slicing works on rows first\n"
   ]
  },
  {
   "cell_type": "code",
   "execution_count": null,
   "id": "a9c92e3e",
   "metadata": {},
   "outputs": [],
   "source": [
    "#last 4 rows\n"
   ]
  },
  {
   "cell_type": "code",
   "execution_count": null,
   "id": "79f68474",
   "metadata": {},
   "outputs": [],
   "source": [
    "\"\"\"\n",
    "[ 9, 10, 11, 12],\n",
    "[13, 14, 15, 16],\n",
    "\"\"\"\n"
   ]
  },
  {
   "cell_type": "code",
   "execution_count": null,
   "id": "d177784e",
   "metadata": {},
   "outputs": [],
   "source": [
    "\"\"\"\n",
    "[ 1,  2,  3,  4]\n",
    "[ 9, 10, 11, 12]\n",
    "[17, 18, 19, 20]\n",
    "\"\"\"\n"
   ]
  },
  {
   "cell_type": "code",
   "execution_count": null,
   "id": "f81570b3",
   "metadata": {},
   "outputs": [],
   "source": [
    "#access first and last row\n"
   ]
  },
  {
   "cell_type": "code",
   "execution_count": null,
   "id": "327c50ac",
   "metadata": {},
   "outputs": [],
   "source": [
    "# row 13 and 21\n",
    "# Rule: If we want to skip one(n) row then step by 2(n+1)\n",
    "\n"
   ]
  },
  {
   "cell_type": "code",
   "execution_count": null,
   "id": "5e886695",
   "metadata": {},
   "outputs": [],
   "source": [
    "# row 21 13 5\n"
   ]
  },
  {
   "cell_type": "code",
   "execution_count": null,
   "id": "28642201",
   "metadata": {},
   "outputs": [],
   "source": [
    "# b[row:column]\n",
    "# b[row_index:column_index:step]\n",
    "#b[::,::]"
   ]
  },
  {
   "cell_type": "code",
   "execution_count": null,
   "id": "a4ca5150",
   "metadata": {},
   "outputs": [],
   "source": [
    "b"
   ]
  },
  {
   "cell_type": "code",
   "execution_count": null,
   "id": "93c8a6a0",
   "metadata": {},
   "outputs": [],
   "source": [
    "\"\"\"\n",
    "10,11\n",
    "14,15\n",
    "\"\"\"\n"
   ]
  },
  {
   "cell_type": "code",
   "execution_count": null,
   "id": "a63385ce",
   "metadata": {},
   "outputs": [],
   "source": [
    "#fetch corner elements\n",
    "# 1,4,21,24\n"
   ]
  },
  {
   "cell_type": "code",
   "execution_count": null,
   "id": "24b7adbf",
   "metadata": {},
   "outputs": [],
   "source": [
    "#check shape"
   ]
  },
  {
   "cell_type": "code",
   "execution_count": null,
   "id": "ae24c8ba",
   "metadata": {},
   "outputs": [],
   "source": [
    "# 19,20\n",
    "# 23,24\n"
   ]
  },
  {
   "cell_type": "code",
   "execution_count": null,
   "id": "8660c52a",
   "metadata": {},
   "outputs": [],
   "source": [
    "b"
   ]
  },
  {
   "cell_type": "code",
   "execution_count": null,
   "id": "939fa427",
   "metadata": {},
   "outputs": [],
   "source": [
    "#access middle 2 columns\n",
    "b[:,1:3]"
   ]
  },
  {
   "cell_type": "code",
   "execution_count": null,
   "id": "733b0e58",
   "metadata": {},
   "outputs": [],
   "source": [
    "b"
   ]
  },
  {
   "cell_type": "code",
   "execution_count": null,
   "id": "767e3616",
   "metadata": {},
   "outputs": [],
   "source": [
    "\"\"\"\n",
    "[[ 1,  2,  3,  4],\n",
    "[ 5,  6,  7,  8],\n",
    "[13, 14, 15, 16],\n",
    "[21, 22, 23, 24]]\n",
    "\"\"\""
   ]
  }
 ],
 "metadata": {
  "kernelspec": {
   "display_name": "Python 3 (ipykernel)",
   "language": "python",
   "name": "python3"
  },
  "language_info": {
   "codemirror_mode": {
    "name": "ipython",
    "version": 3
   },
   "file_extension": ".py",
   "mimetype": "text/x-python",
   "name": "python",
   "nbconvert_exporter": "python",
   "pygments_lexer": "ipython3",
   "version": "3.9.7"
  }
 },
 "nbformat": 4,
 "nbformat_minor": 5
}
