{
 "cells": [
  {
   "cell_type": "markdown",
   "id": "e1fe4ab7",
   "metadata": {},
   "source": [
    "# Numpy array creation"
   ]
  },
  {
   "cell_type": "code",
   "execution_count": 1,
   "id": "f17a72c8",
   "metadata": {},
   "outputs": [],
   "source": [
    "import numpy as np"
   ]
  },
  {
   "cell_type": "markdown",
   "id": "d482994c",
   "metadata": {},
   "source": [
    "## arange()"
   ]
  },
  {
   "cell_type": "code",
   "execution_count": 2,
   "id": "215ea238",
   "metadata": {},
   "outputs": [
    {
     "data": {
      "text/plain": [
       "array([0, 1, 2, 3, 4, 5])"
      ]
     },
     "execution_count": 2,
     "metadata": {},
     "output_type": "execute_result"
    }
   ],
   "source": [
    "np.arange(6)\n",
    "# starts from 0 and stop at num-1"
   ]
  },
  {
   "cell_type": "code",
   "execution_count": 3,
   "id": "8aad061c",
   "metadata": {},
   "outputs": [
    {
     "data": {
      "text/plain": [
       "array([ 1,  2,  3,  4,  5,  6,  7,  8,  9, 10])"
      ]
     },
     "execution_count": 3,
     "metadata": {},
     "output_type": "execute_result"
    }
   ],
   "source": [
    "np.arange(1,11)"
   ]
  },
  {
   "cell_type": "code",
   "execution_count": 4,
   "id": "a7e8fb19",
   "metadata": {},
   "outputs": [
    {
     "data": {
      "text/plain": [
       "array([ 2,  4,  6,  8, 10, 12, 14, 16, 18, 20])"
      ]
     },
     "execution_count": 4,
     "metadata": {},
     "output_type": "execute_result"
    }
   ],
   "source": [
    "#stepping\n",
    "np.arange(2,21,2)"
   ]
  },
  {
   "cell_type": "markdown",
   "id": "ea127d84",
   "metadata": {},
   "source": [
    "## zeros():array with all zeros"
   ]
  },
  {
   "cell_type": "code",
   "execution_count": 5,
   "id": "dd49c22c",
   "metadata": {},
   "outputs": [
    {
     "data": {
      "text/plain": [
       "array([0., 0., 0., 0., 0.])"
      ]
     },
     "execution_count": 5,
     "metadata": {},
     "output_type": "execute_result"
    }
   ],
   "source": [
    "\"\"\"\n",
    "zeros(shape, dtype=float, order='C', *, like=None)\n",
    "\n",
    "Return a new array of given shape and type, filled with zeros.\n",
    "\"\"\"\n",
    "np.zeros(5)"
   ]
  },
  {
   "cell_type": "code",
   "execution_count": 6,
   "id": "d2102d10",
   "metadata": {},
   "outputs": [
    {
     "data": {
      "text/plain": [
       "array([[0., 0., 0., 0.],\n",
       "       [0., 0., 0., 0.],\n",
       "       [0., 0., 0., 0.]])"
      ]
     },
     "execution_count": 6,
     "metadata": {},
     "output_type": "execute_result"
    }
   ],
   "source": [
    "# 2D array\n",
    "np.zeros((3,4))"
   ]
  },
  {
   "cell_type": "code",
   "execution_count": 7,
   "id": "b1e2e993",
   "metadata": {},
   "outputs": [
    {
     "data": {
      "text/plain": [
       "array([[[0., 0.],\n",
       "        [0., 0.]],\n",
       "\n",
       "       [[0., 0.],\n",
       "        [0., 0.]],\n",
       "\n",
       "       [[0., 0.],\n",
       "        [0., 0.]]])"
      ]
     },
     "execution_count": 7,
     "metadata": {},
     "output_type": "execute_result"
    }
   ],
   "source": [
    "#3D\n",
    "np.zeros((3,2,2))"
   ]
  },
  {
   "cell_type": "code",
   "execution_count": 8,
   "id": "49436437",
   "metadata": {},
   "outputs": [
    {
     "data": {
      "text/plain": [
       "array([[[0, 0],\n",
       "        [0, 0]],\n",
       "\n",
       "       [[0, 0],\n",
       "        [0, 0]],\n",
       "\n",
       "       [[0, 0],\n",
       "        [0, 0]]])"
      ]
     },
     "execution_count": 8,
     "metadata": {},
     "output_type": "execute_result"
    }
   ],
   "source": [
    "# if i want int zero then\n",
    "np.zeros((3,2,2),dtype=int)"
   ]
  },
  {
   "cell_type": "markdown",
   "id": "74641ce2",
   "metadata": {},
   "source": [
    "## ones(): all 1's in array"
   ]
  },
  {
   "cell_type": "code",
   "execution_count": 9,
   "id": "1c7c6282",
   "metadata": {},
   "outputs": [
    {
     "data": {
      "text/plain": [
       "array([1., 1., 1., 1.])"
      ]
     },
     "execution_count": 9,
     "metadata": {},
     "output_type": "execute_result"
    }
   ],
   "source": [
    "np.ones(4)"
   ]
  },
  {
   "cell_type": "code",
   "execution_count": 10,
   "id": "1380c11e",
   "metadata": {},
   "outputs": [
    {
     "data": {
      "text/plain": [
       "array([[1., 1., 1., 1.],\n",
       "       [1., 1., 1., 1.],\n",
       "       [1., 1., 1., 1.],\n",
       "       [1., 1., 1., 1.]])"
      ]
     },
     "execution_count": 10,
     "metadata": {},
     "output_type": "execute_result"
    }
   ],
   "source": [
    "# 2D\n",
    "np.ones((4,4))"
   ]
  },
  {
   "cell_type": "code",
   "execution_count": null,
   "id": "d7a63f54",
   "metadata": {},
   "outputs": [],
   "source": [
    "# 3D"
   ]
  },
  {
   "cell_type": "markdown",
   "id": "5aab3276",
   "metadata": {},
   "source": [
    "## empty array"
   ]
  },
  {
   "cell_type": "code",
   "execution_count": 11,
   "id": "d0e0be54",
   "metadata": {},
   "outputs": [
    {
     "data": {
      "text/plain": [
       "array([[1., 1., 1., 1.],\n",
       "       [1., 1., 1., 1.],\n",
       "       [1., 1., 1., 1.],\n",
       "       [1., 1., 1., 1.]])"
      ]
     },
     "execution_count": 11,
     "metadata": {},
     "output_type": "execute_result"
    }
   ],
   "source": [
    "np.empty((4,4))"
   ]
  },
  {
   "cell_type": "code",
   "execution_count": 12,
   "id": "c98d48f2",
   "metadata": {},
   "outputs": [
    {
     "data": {
      "text/plain": [
       "array([[[6.23042070e-307, 3.56043053e-307, 1.60219306e-306],\n",
       "        [7.56571288e-307, 1.89146896e-307, 1.37961302e-306],\n",
       "        [1.05699242e-307, 8.01097889e-307, 1.78020169e-306]],\n",
       "\n",
       "       [[7.56601165e-307, 1.02359984e-306, 1.33510679e-306],\n",
       "        [2.22522597e-306, 8.01097889e-307, 1.60220800e-306],\n",
       "        [7.56601165e-307, 2.22522596e-306, 1.42410974e-306]]])"
      ]
     },
     "execution_count": 12,
     "metadata": {},
     "output_type": "execute_result"
    }
   ],
   "source": [
    "np.empty((2,3,3))"
   ]
  },
  {
   "cell_type": "code",
   "execution_count": 13,
   "id": "2fc6b51a",
   "metadata": {},
   "outputs": [
    {
     "data": {
      "text/plain": [
       "array([[['', '', ''],\n",
       "        ['', '', ''],\n",
       "        ['', '', '']],\n",
       "\n",
       "       [['', '', ''],\n",
       "        ['', '', ''],\n",
       "        ['', '', '']]], dtype='<U1')"
      ]
     },
     "execution_count": 13,
     "metadata": {},
     "output_type": "execute_result"
    }
   ],
   "source": [
    "np.empty((2,3,3),dtype=str)"
   ]
  },
  {
   "cell_type": "markdown",
   "id": "76dadf2a",
   "metadata": {},
   "source": [
    "## full(): supply own value in arrray"
   ]
  },
  {
   "cell_type": "code",
   "execution_count": 14,
   "id": "062de575",
   "metadata": {},
   "outputs": [
    {
     "data": {
      "text/plain": [
       "array([[100, 100, 100],\n",
       "       [100, 100, 100],\n",
       "       [100, 100, 100]])"
      ]
     },
     "execution_count": 14,
     "metadata": {},
     "output_type": "execute_result"
    }
   ],
   "source": [
    "#Signature: np.full(shape, fill_value, dtype=None, order='C', *, like=None)\n",
    "#Docstring:\n",
    "#Return a new array of given shape and type, filled with `fill_value`.\n",
    "\n",
    "np.full((3,3),100)"
   ]
  },
  {
   "cell_type": "code",
   "execution_count": 16,
   "id": "b169bbf4",
   "metadata": {},
   "outputs": [
    {
     "data": {
      "text/plain": [
       "array([-1.2, -1.2, -1.2, -1.2, -1.2, -1.2, -1.2, -1.2, -1.2, -1.2])"
      ]
     },
     "execution_count": 16,
     "metadata": {},
     "output_type": "execute_result"
    }
   ],
   "source": [
    "np.full(10,-1.2)"
   ]
  },
  {
   "cell_type": "code",
   "execution_count": 18,
   "id": "1845947c",
   "metadata": {},
   "outputs": [
    {
     "data": {
      "text/plain": [
       "array([['Null', 'Null', 'Null'],\n",
       "       ['Null', 'Null', 'Null'],\n",
       "       ['Null', 'Null', 'Null']], dtype='<U4')"
      ]
     },
     "execution_count": 18,
     "metadata": {},
     "output_type": "execute_result"
    }
   ],
   "source": [
    "np.full((3,3),fill_value='Null')"
   ]
  },
  {
   "cell_type": "markdown",
   "id": "b59e2288",
   "metadata": {},
   "source": [
    "## empty():array with garbage values"
   ]
  },
  {
   "cell_type": "code",
   "execution_count": null,
   "id": "fabd22b0",
   "metadata": {},
   "outputs": [],
   "source": [
    "np.empty(5)"
   ]
  },
  {
   "cell_type": "code",
   "execution_count": null,
   "id": "48a96f9e",
   "metadata": {},
   "outputs": [],
   "source": [
    "#2D"
   ]
  },
  {
   "cell_type": "code",
   "execution_count": null,
   "id": "975f5cda",
   "metadata": {},
   "outputs": [],
   "source": [
    "#3D"
   ]
  },
  {
   "cell_type": "markdown",
   "id": "6d908688",
   "metadata": {},
   "source": [
    "## identity(): identity matrix\n",
    "- diagonal elements 1 and non diagonal 0"
   ]
  },
  {
   "cell_type": "code",
   "execution_count": 19,
   "id": "5492292e",
   "metadata": {},
   "outputs": [
    {
     "data": {
      "text/plain": [
       "array([[1., 0., 0., 0.],\n",
       "       [0., 1., 0., 0.],\n",
       "       [0., 0., 1., 0.],\n",
       "       [0., 0., 0., 1.]])"
      ]
     },
     "execution_count": 19,
     "metadata": {},
     "output_type": "execute_result"
    }
   ],
   "source": [
    "# n: means N x N array\n",
    "np.identity(4)"
   ]
  },
  {
   "cell_type": "code",
   "execution_count": 20,
   "id": "0c54ba59",
   "metadata": {},
   "outputs": [
    {
     "data": {
      "text/plain": [
       "array([[1., 0., 0.],\n",
       "       [0., 1., 0.],\n",
       "       [0., 0., 1.]])"
      ]
     },
     "execution_count": 20,
     "metadata": {},
     "output_type": "execute_result"
    }
   ],
   "source": [
    "np.identity(3)"
   ]
  },
  {
   "cell_type": "code",
   "execution_count": 21,
   "id": "4a7a927e",
   "metadata": {},
   "outputs": [
    {
     "data": {
      "text/plain": [
       "array([[1, 0, 0],\n",
       "       [0, 1, 0],\n",
       "       [0, 0, 1]])"
      ]
     },
     "execution_count": 21,
     "metadata": {},
     "output_type": "execute_result"
    }
   ],
   "source": [
    "np.identity(3,dtype=int)"
   ]
  },
  {
   "cell_type": "code",
   "execution_count": 22,
   "id": "7738ef77",
   "metadata": {},
   "outputs": [
    {
     "ename": "TypeError",
     "evalue": "'tuple' object cannot be interpreted as an integer",
     "output_type": "error",
     "traceback": [
      "\u001b[1;31m---------------------------------------------------------------------------\u001b[0m",
      "\u001b[1;31mTypeError\u001b[0m                                 Traceback (most recent call last)",
      "\u001b[1;32m~\\AppData\\Local\\Temp/ipykernel_13144/281885188.py\u001b[0m in \u001b[0;36m<module>\u001b[1;34m\u001b[0m\n\u001b[1;32m----> 1\u001b[1;33m \u001b[0mnp\u001b[0m\u001b[1;33m.\u001b[0m\u001b[0midentity\u001b[0m\u001b[1;33m(\u001b[0m\u001b[1;33m(\u001b[0m\u001b[1;36m2\u001b[0m\u001b[1;33m,\u001b[0m\u001b[1;36m3\u001b[0m\u001b[1;33m)\u001b[0m\u001b[1;33m,\u001b[0m\u001b[0mdtype\u001b[0m\u001b[1;33m=\u001b[0m\u001b[0mint\u001b[0m\u001b[1;33m)\u001b[0m\u001b[1;33m\u001b[0m\u001b[1;33m\u001b[0m\u001b[0m\n\u001b[0m",
      "\u001b[1;32mC:\\ProgramData\\Anaconda3\\lib\\site-packages\\numpy\\core\\numeric.py\u001b[0m in \u001b[0;36midentity\u001b[1;34m(n, dtype, like)\u001b[0m\n\u001b[0;32m   2172\u001b[0m \u001b[1;33m\u001b[0m\u001b[0m\n\u001b[0;32m   2173\u001b[0m     \u001b[1;32mfrom\u001b[0m \u001b[0mnumpy\u001b[0m \u001b[1;32mimport\u001b[0m \u001b[0meye\u001b[0m\u001b[1;33m\u001b[0m\u001b[1;33m\u001b[0m\u001b[0m\n\u001b[1;32m-> 2174\u001b[1;33m     \u001b[1;32mreturn\u001b[0m \u001b[0meye\u001b[0m\u001b[1;33m(\u001b[0m\u001b[0mn\u001b[0m\u001b[1;33m,\u001b[0m \u001b[0mdtype\u001b[0m\u001b[1;33m=\u001b[0m\u001b[0mdtype\u001b[0m\u001b[1;33m,\u001b[0m \u001b[0mlike\u001b[0m\u001b[1;33m=\u001b[0m\u001b[0mlike\u001b[0m\u001b[1;33m)\u001b[0m\u001b[1;33m\u001b[0m\u001b[1;33m\u001b[0m\u001b[0m\n\u001b[0m\u001b[0;32m   2175\u001b[0m \u001b[1;33m\u001b[0m\u001b[0m\n\u001b[0;32m   2176\u001b[0m \u001b[1;33m\u001b[0m\u001b[0m\n",
      "\u001b[1;32mC:\\ProgramData\\Anaconda3\\lib\\site-packages\\numpy\\lib\\twodim_base.py\u001b[0m in \u001b[0;36meye\u001b[1;34m(N, M, k, dtype, order, like)\u001b[0m\n\u001b[0;32m    207\u001b[0m     \u001b[1;32mif\u001b[0m \u001b[0mM\u001b[0m \u001b[1;32mis\u001b[0m \u001b[1;32mNone\u001b[0m\u001b[1;33m:\u001b[0m\u001b[1;33m\u001b[0m\u001b[1;33m\u001b[0m\u001b[0m\n\u001b[0;32m    208\u001b[0m         \u001b[0mM\u001b[0m \u001b[1;33m=\u001b[0m \u001b[0mN\u001b[0m\u001b[1;33m\u001b[0m\u001b[1;33m\u001b[0m\u001b[0m\n\u001b[1;32m--> 209\u001b[1;33m     \u001b[0mm\u001b[0m \u001b[1;33m=\u001b[0m \u001b[0mzeros\u001b[0m\u001b[1;33m(\u001b[0m\u001b[1;33m(\u001b[0m\u001b[0mN\u001b[0m\u001b[1;33m,\u001b[0m \u001b[0mM\u001b[0m\u001b[1;33m)\u001b[0m\u001b[1;33m,\u001b[0m \u001b[0mdtype\u001b[0m\u001b[1;33m=\u001b[0m\u001b[0mdtype\u001b[0m\u001b[1;33m,\u001b[0m \u001b[0morder\u001b[0m\u001b[1;33m=\u001b[0m\u001b[0morder\u001b[0m\u001b[1;33m)\u001b[0m\u001b[1;33m\u001b[0m\u001b[1;33m\u001b[0m\u001b[0m\n\u001b[0m\u001b[0;32m    210\u001b[0m     \u001b[1;32mif\u001b[0m \u001b[0mk\u001b[0m \u001b[1;33m>=\u001b[0m \u001b[0mM\u001b[0m\u001b[1;33m:\u001b[0m\u001b[1;33m\u001b[0m\u001b[1;33m\u001b[0m\u001b[0m\n\u001b[0;32m    211\u001b[0m         \u001b[1;32mreturn\u001b[0m \u001b[0mm\u001b[0m\u001b[1;33m\u001b[0m\u001b[1;33m\u001b[0m\u001b[0m\n",
      "\u001b[1;31mTypeError\u001b[0m: 'tuple' object cannot be interpreted as an integer"
     ]
    }
   ],
   "source": [
    "np.identity((2,3),dtype=int)"
   ]
  },
  {
   "cell_type": "markdown",
   "id": "d214a6f4",
   "metadata": {},
   "source": [
    "## eye(): used to crreate an identity matrix"
   ]
  },
  {
   "cell_type": "code",
   "execution_count": 23,
   "id": "619bfd17",
   "metadata": {},
   "outputs": [
    {
     "data": {
      "text/plain": [
       "array([[1., 0., 0., 0.],\n",
       "       [0., 1., 0., 0.],\n",
       "       [0., 0., 1., 0.],\n",
       "       [0., 0., 0., 1.]])"
      ]
     },
     "execution_count": 23,
     "metadata": {},
     "output_type": "execute_result"
    }
   ],
   "source": [
    "np.eye(4)"
   ]
  },
  {
   "cell_type": "code",
   "execution_count": 24,
   "id": "08d62bed",
   "metadata": {},
   "outputs": [
    {
     "data": {
      "text/plain": [
       "array([[1., 0., 0., 0., 0., 0.],\n",
       "       [0., 1., 0., 0., 0., 0.],\n",
       "       [0., 0., 1., 0., 0., 0.],\n",
       "       [0., 0., 0., 1., 0., 0.]])"
      ]
     },
     "execution_count": 24,
     "metadata": {},
     "output_type": "execute_result"
    }
   ],
   "source": [
    "#np.identity(n, dtype=None, *, like=None)\n",
    "#np.eye(N, M=None, k=0, dtype=<class 'float'>)\n",
    "np.eye(4,6)"
   ]
  },
  {
   "cell_type": "code",
   "execution_count": 25,
   "id": "4bc8e8b5",
   "metadata": {},
   "outputs": [
    {
     "data": {
      "text/plain": [
       "array([[0., 0., 0., 1., 0., 0.],\n",
       "       [0., 0., 0., 0., 1., 0.],\n",
       "       [0., 0., 0., 0., 0., 1.],\n",
       "       [0., 0., 0., 0., 0., 0.]])"
      ]
     },
     "execution_count": 25,
     "metadata": {},
     "output_type": "execute_result"
    }
   ],
   "source": [
    "#change diagonal position using k\n",
    "np.eye(4,6,k=3)"
   ]
  },
  {
   "cell_type": "raw",
   "id": "11ef5aa6",
   "metadata": {},
   "source": [
    "# Q. difference between identity and eye"
   ]
  },
  {
   "cell_type": "markdown",
   "id": "5b2bd983",
   "metadata": {},
   "source": [
    "## linspace(): array with linearly spaced values,\n",
    "- space between 2 consecutive number will be same always"
   ]
  },
  {
   "cell_type": "code",
   "execution_count": null,
   "id": "85e7061a",
   "metadata": {},
   "outputs": [],
   "source": [
    "\"\"\"\n",
    "np.linspace(\n",
    "    start,\n",
    "    stop,\n",
    "    num=50,\n",
    "    endpoint=True,\n",
    "    retstep=False,\n",
    "    dtype=None,\n",
    "    axis=0,\n",
    ")\n",
    "\"\"\"\n",
    "np.linspace(2,10)"
   ]
  },
  {
   "cell_type": "code",
   "execution_count": null,
   "id": "ff73af30",
   "metadata": {},
   "outputs": [],
   "source": [
    "np.linspace(2,10,retstep=True)"
   ]
  },
  {
   "cell_type": "code",
   "execution_count": null,
   "id": "fe43ed84",
   "metadata": {},
   "outputs": [],
   "source": [
    "np.linspace(2,10,num=25,retstep=True)"
   ]
  },
  {
   "cell_type": "code",
   "execution_count": null,
   "id": "ec489f54",
   "metadata": {},
   "outputs": [],
   "source": [
    "# dont add endpoint\n",
    "np.linspace(2,10,num=25,endpoint=False,retstep=True)"
   ]
  },
  {
   "cell_type": "code",
   "execution_count": null,
   "id": "b2ae15c6",
   "metadata": {},
   "outputs": [],
   "source": [
    "# \n",
    "x = np.identity(4)\n",
    "x"
   ]
  },
  {
   "cell_type": "code",
   "execution_count": null,
   "id": "2eba5431",
   "metadata": {},
   "outputs": [],
   "source": [
    "np.diagonal(x)#gives u an access to diagonal elements"
   ]
  },
  {
   "cell_type": "markdown",
   "id": "95819f8f",
   "metadata": {},
   "source": [
    "## random(): creates a random number"
   ]
  },
  {
   "cell_type": "code",
   "execution_count": 26,
   "id": "0a065b3e",
   "metadata": {},
   "outputs": [
    {
     "data": {
      "text/plain": [
       "array([0.2287251 , 0.07666987, 0.77394433, 0.83371686, 0.6611736 ])"
      ]
     },
     "execution_count": 26,
     "metadata": {},
     "output_type": "execute_result"
    }
   ],
   "source": [
    "#random(size=None)\n",
    "#Return random floats in the half-open interval [0.0, 1.0).\n",
    "np.random.random(5)"
   ]
  },
  {
   "cell_type": "code",
   "execution_count": 29,
   "id": "0ad92d34",
   "metadata": {},
   "outputs": [
    {
     "data": {
      "text/plain": [
       "array([[0.85312831, 0.42106472, 0.16578744, 0.10512317, 0.73861979],\n",
       "       [0.33926513, 0.82498131, 0.52810022, 0.02596578, 0.23838235],\n",
       "       [0.17331457, 0.95660143, 0.6718298 , 0.10647383, 0.54628234],\n",
       "       [0.76896205, 0.76332014, 0.6116592 , 0.24875108, 0.84496077]])"
      ]
     },
     "execution_count": 29,
     "metadata": {},
     "output_type": "execute_result"
    }
   ],
   "source": [
    "#2d \n",
    "np.random.random((4,5))"
   ]
  },
  {
   "cell_type": "code",
   "execution_count": 45,
   "id": "bf9d5252",
   "metadata": {},
   "outputs": [
    {
     "data": {
      "text/plain": [
       "array([0, 2, 0, 0, 1, 0, 0, 2, 3, 2, 1, 0])"
      ]
     },
     "execution_count": 45,
     "metadata": {},
     "output_type": "execute_result"
    }
   ],
   "source": [
    "# random int values\n",
    "#randint(low, high=None, size=None, dtype=int)\n",
    "np.random.randint(4,size=12) # when we supply only low then it is exclusive"
   ]
  },
  {
   "cell_type": "code",
   "execution_count": 49,
   "id": "6d63cc2c",
   "metadata": {},
   "outputs": [
    {
     "data": {
      "text/plain": [
       "array([10,  4, 11,  9,  6,  8,  7,  5, 11,  4, 10,  7,  5, 10,  5,  7,  7,\n",
       "       11,  7,  8])"
      ]
     },
     "execution_count": 49,
     "metadata": {},
     "output_type": "execute_result"
    }
   ],
   "source": [
    "# when we supply both, low and high\n",
    "#Return random integers from `low` (inclusive) to `high` (exclusive).\n",
    "np.random.randint(4,12,size=20)"
   ]
  },
  {
   "cell_type": "code",
   "execution_count": 51,
   "id": "e019d649",
   "metadata": {},
   "outputs": [
    {
     "data": {
      "text/plain": [
       "array([ 73, 104,  72,  85,  79, 111, 100,  96,  89,  77,  98, 119,  72,\n",
       "        82,  91, 116,  92,  97,  81, 105, 101, 116,  76,  83,  73, 100,\n",
       "        71,  71, 112,  70,  78,  76, 116, 116,  70,  95,  73, 110,  94,\n",
       "       105, 103,  84, 116, 108, 112,  98,  87, 120, 101, 111])"
      ]
     },
     "execution_count": 51,
     "metadata": {},
     "output_type": "execute_result"
    }
   ],
   "source": [
    "# generate a data of bloodpressure in range 70-120\n",
    "np.random.randint(70,121,size=50)"
   ]
  },
  {
   "cell_type": "code",
   "execution_count": 52,
   "id": "2aa6d44c",
   "metadata": {},
   "outputs": [
    {
     "data": {
      "text/plain": [
       "array([45938, 20534, 28611, 59190, 28026, 49853, 59319, 57705, 53048,\n",
       "       37297, 31960, 36462, 39187, 32965, 47414, 37810, 32604, 41126,\n",
       "       46993, 44975, 34750, 40978, 28387, 20880, 24688, 27596, 40039,\n",
       "       50665, 36775, 51864, 22331, 35322, 56257, 52121, 58607, 48296,\n",
       "       39327, 40338, 38222, 58127, 27037, 34134, 52059, 33547, 24558,\n",
       "       57767, 27941, 43910, 37587, 34231, 28032, 28926, 30179, 45111,\n",
       "       37740, 40586, 48133, 30817, 20008, 50595, 49073, 53752, 50841,\n",
       "       25744, 38836, 23700, 57109, 48255, 34928, 56394, 23507, 29821,\n",
       "       37161, 47784, 29474, 29483, 53518, 56629, 57997, 48603, 40614,\n",
       "       52650, 36066, 40376, 26176, 23896, 22219, 58376, 22865, 39815,\n",
       "       31955, 31865, 31984, 27518, 29397, 42923, 59034, 34058, 41185,\n",
       "       52047])"
      ]
     },
     "execution_count": 52,
     "metadata": {},
     "output_type": "execute_result"
    }
   ],
   "source": [
    "# salary data: 20000,60000 for 100 employees\n",
    "np.random.randint(20000,60001,100)"
   ]
  },
  {
   "cell_type": "code",
   "execution_count": 55,
   "id": "9b22d5ff",
   "metadata": {
    "scrolled": true
   },
   "outputs": [
    {
     "data": {
      "text/plain": [
       "array([[0.04626334, 0.33499794, 0.65934473],\n",
       "       [0.52077157, 0.28122627, 0.93756675],\n",
       "       [0.15224864, 0.96648514, 0.57869996],\n",
       "       [0.71693607, 0.97960844, 0.06332845],\n",
       "       [0.00256038, 0.77401378, 0.08219362]])"
      ]
     },
     "execution_count": 55,
     "metadata": {},
     "output_type": "execute_result"
    }
   ],
   "source": [
    "# if we have array present in memory\n",
    "# & we need to create a new array with same structure\n",
    "x = np.random.random((5,3))\n",
    "x"
   ]
  },
  {
   "cell_type": "code",
   "execution_count": 56,
   "id": "9bb86d94",
   "metadata": {},
   "outputs": [
    {
     "data": {
      "text/plain": [
       "(5, 3)"
      ]
     },
     "execution_count": 56,
     "metadata": {},
     "output_type": "execute_result"
    }
   ],
   "source": [
    "x.shape"
   ]
  },
  {
   "cell_type": "code",
   "execution_count": 57,
   "id": "1e65869f",
   "metadata": {},
   "outputs": [
    {
     "data": {
      "text/plain": [
       "array([[1., 1., 1.],\n",
       "       [1., 1., 1.],\n",
       "       [1., 1., 1.],\n",
       "       [1., 1., 1.],\n",
       "       [1., 1., 1.]])"
      ]
     },
     "execution_count": 57,
     "metadata": {},
     "output_type": "execute_result"
    }
   ],
   "source": [
    "# create an array of 1's with same shape as that of x\n",
    "np.ones_like(x)"
   ]
  },
  {
   "cell_type": "code",
   "execution_count": 58,
   "id": "66f0b362",
   "metadata": {},
   "outputs": [
    {
     "data": {
      "text/plain": [
       "array([[1, 1, 1],\n",
       "       [1, 1, 1],\n",
       "       [1, 1, 1],\n",
       "       [1, 1, 1],\n",
       "       [1, 1, 1]])"
      ]
     },
     "execution_count": 58,
     "metadata": {},
     "output_type": "execute_result"
    }
   ],
   "source": [
    "np.ones_like(x,dtype=int)"
   ]
  },
  {
   "cell_type": "code",
   "execution_count": null,
   "id": "58c966f5",
   "metadata": {},
   "outputs": [],
   "source": [
    "# Assignment:\n",
    "#np.zeros_like()\n",
    "#np.empty_like()"
   ]
  },
  {
   "cell_type": "markdown",
   "id": "becb3f9d",
   "metadata": {},
   "source": [
    "# Typecasting in numpy"
   ]
  },
  {
   "cell_type": "code",
   "execution_count": 59,
   "id": "fbee938f",
   "metadata": {},
   "outputs": [
    {
     "data": {
      "text/plain": [
       "array([0, 1, 2, 3, 4, 5, 6, 7, 8, 9])"
      ]
     },
     "execution_count": 59,
     "metadata": {},
     "output_type": "execute_result"
    }
   ],
   "source": [
    "np.arange(10)"
   ]
  },
  {
   "cell_type": "code",
   "execution_count": 60,
   "id": "f06fc892",
   "metadata": {},
   "outputs": [
    {
     "data": {
      "text/plain": [
       "dtype('int32')"
      ]
     },
     "execution_count": 60,
     "metadata": {},
     "output_type": "execute_result"
    }
   ],
   "source": [
    "np.arange(10).dtype"
   ]
  },
  {
   "cell_type": "code",
   "execution_count": 61,
   "id": "c4179e1e",
   "metadata": {},
   "outputs": [
    {
     "data": {
      "text/plain": [
       "array([0., 1., 2., 3., 4., 5., 6., 7., 8., 9.])"
      ]
     },
     "execution_count": 61,
     "metadata": {},
     "output_type": "execute_result"
    }
   ],
   "source": [
    "np.arange(10,dtype=float)"
   ]
  },
  {
   "cell_type": "code",
   "execution_count": 62,
   "id": "ccac9646",
   "metadata": {},
   "outputs": [
    {
     "data": {
      "text/plain": [
       "dtype('float64')"
      ]
     },
     "execution_count": 62,
     "metadata": {},
     "output_type": "execute_result"
    }
   ],
   "source": [
    "np.arange(10,dtype=float).dtype"
   ]
  },
  {
   "cell_type": "code",
   "execution_count": null,
   "id": "4bcee88c",
   "metadata": {},
   "outputs": [],
   "source": [
    "# 8 bit: 1 Byte\n",
    "# 32 bit: 4 bytes\n",
    "# 64 bit: 8 bytes"
   ]
  },
  {
   "cell_type": "code",
   "execution_count": 63,
   "id": "7fc37f8d",
   "metadata": {},
   "outputs": [
    {
     "data": {
      "text/plain": [
       "array([0., 1., 2., 3., 4., 5., 6., 7., 8., 9.])"
      ]
     },
     "execution_count": 63,
     "metadata": {},
     "output_type": "execute_result"
    }
   ],
   "source": [
    "np.arange(10,dtype=float)"
   ]
  },
  {
   "cell_type": "code",
   "execution_count": 64,
   "id": "2678a7e0",
   "metadata": {},
   "outputs": [
    {
     "data": {
      "text/plain": [
       "array([0., 1., 2., 3., 4., 5., 6., 7., 8., 9.], dtype=float16)"
      ]
     },
     "execution_count": 64,
     "metadata": {},
     "output_type": "execute_result"
    }
   ],
   "source": [
    "np.arange(10,dtype='float16')#in bits"
   ]
  },
  {
   "cell_type": "code",
   "execution_count": 70,
   "id": "8f613f43",
   "metadata": {},
   "outputs": [
    {
     "data": {
      "text/plain": [
       "array(21340., dtype=float16)"
      ]
     },
     "execution_count": 70,
     "metadata": {},
     "output_type": "execute_result"
    }
   ],
   "source": [
    "np.array(21343,dtype='float16')"
   ]
  },
  {
   "cell_type": "code",
   "execution_count": 71,
   "id": "0d412103",
   "metadata": {},
   "outputs": [
    {
     "data": {
      "text/plain": [
       "array([0., 1., 2., 3., 4., 5., 6., 7., 8., 9.], dtype=float32)"
      ]
     },
     "execution_count": 71,
     "metadata": {},
     "output_type": "execute_result"
    }
   ],
   "source": [
    "np.arange(10,dtype='f')#default it takes 4 bytes"
   ]
  },
  {
   "cell_type": "code",
   "execution_count": 72,
   "id": "1e2e01c2",
   "metadata": {},
   "outputs": [
    {
     "data": {
      "text/plain": [
       "array([0., 1., 2., 3., 4., 5., 6., 7., 8., 9.])"
      ]
     },
     "execution_count": 72,
     "metadata": {},
     "output_type": "execute_result"
    }
   ],
   "source": [
    "np.arange(10,dtype='f8') #8 bytes"
   ]
  },
  {
   "cell_type": "code",
   "execution_count": 73,
   "id": "4db74bd9",
   "metadata": {},
   "outputs": [
    {
     "data": {
      "text/plain": [
       "array([0, 1, 2, 3, 4, 5, 6, 7, 8, 9], dtype=int64)"
      ]
     },
     "execution_count": 73,
     "metadata": {},
     "output_type": "execute_result"
    }
   ],
   "source": [
    "np.arange(10,dtype='i8')"
   ]
  },
  {
   "cell_type": "code",
   "execution_count": 76,
   "id": "406d0e27",
   "metadata": {},
   "outputs": [
    {
     "data": {
      "text/plain": [
       "array([0, 1, 2, 3, 4, 5, 6, 7, 8, 9], dtype=int64)"
      ]
     },
     "execution_count": 76,
     "metadata": {},
     "output_type": "execute_result"
    }
   ],
   "source": [
    "#np.arange(10,dtype=float)\n",
    "#np.arange(10,dtype='f')\n",
    "#np.arange(10,dtype='f4')\n",
    "np.arange(10,dtype=np.int64) # in bits"
   ]
  },
  {
   "cell_type": "code",
   "execution_count": 77,
   "id": "63a45cb1",
   "metadata": {},
   "outputs": [
    {
     "ename": "OverflowError",
     "evalue": "Python int too large to convert to C long",
     "output_type": "error",
     "traceback": [
      "\u001b[1;31m---------------------------------------------------------------------------\u001b[0m",
      "\u001b[1;31mOverflowError\u001b[0m                             Traceback (most recent call last)",
      "\u001b[1;32m~\\AppData\\Local\\Temp/ipykernel_13144/2728138875.py\u001b[0m in \u001b[0;36m<module>\u001b[1;34m\u001b[0m\n\u001b[1;32m----> 1\u001b[1;33m \u001b[0mnp\u001b[0m\u001b[1;33m.\u001b[0m\u001b[0marray\u001b[0m\u001b[1;33m(\u001b[0m\u001b[1;33m[\u001b[0m\u001b[1;36m1233223423123\u001b[0m\u001b[1;33m,\u001b[0m\u001b[1;36m1342134242342342\u001b[0m\u001b[1;33m]\u001b[0m\u001b[1;33m,\u001b[0m\u001b[0mdtype\u001b[0m\u001b[1;33m=\u001b[0m\u001b[1;34m'i4'\u001b[0m\u001b[1;33m)\u001b[0m\u001b[1;33m\u001b[0m\u001b[1;33m\u001b[0m\u001b[0m\n\u001b[0m",
      "\u001b[1;31mOverflowError\u001b[0m: Python int too large to convert to C long"
     ]
    }
   ],
   "source": [
    "np.array([1233223423123,1342134242342342],dtype='i4')"
   ]
  },
  {
   "cell_type": "code",
   "execution_count": null,
   "id": "62d37859",
   "metadata": {},
   "outputs": [],
   "source": [
    "np.array(123).dtype"
   ]
  },
  {
   "cell_type": "markdown",
   "id": "b4bc7425",
   "metadata": {},
   "source": [
    "## After creation of an array: if we want to typecast"
   ]
  },
  {
   "cell_type": "code",
   "execution_count": 78,
   "id": "5d51ffc0",
   "metadata": {},
   "outputs": [
    {
     "data": {
      "text/plain": [
       "array([ 0,  1,  2,  3,  4,  5,  6,  7,  8,  9, 10, 11, 12, 13, 14, 15, 16,\n",
       "       17, 18, 19])"
      ]
     },
     "execution_count": 78,
     "metadata": {},
     "output_type": "execute_result"
    }
   ],
   "source": [
    "s = np.arange(20)\n",
    "s"
   ]
  },
  {
   "cell_type": "code",
   "execution_count": 79,
   "id": "33b58863",
   "metadata": {},
   "outputs": [
    {
     "data": {
      "text/plain": [
       "dtype('int32')"
      ]
     },
     "execution_count": 79,
     "metadata": {},
     "output_type": "execute_result"
    }
   ],
   "source": [
    "s.dtype"
   ]
  },
  {
   "cell_type": "markdown",
   "id": "4ca77f02",
   "metadata": {},
   "source": [
    "## astype()"
   ]
  },
  {
   "cell_type": "code",
   "execution_count": 80,
   "id": "aa5aaaf2",
   "metadata": {},
   "outputs": [
    {
     "data": {
      "text/plain": [
       "array([ 0,  1,  2,  3,  4,  5,  6,  7,  8,  9, 10, 11, 12, 13, 14, 15, 16,\n",
       "       17, 18, 19], dtype=int64)"
      ]
     },
     "execution_count": 80,
     "metadata": {},
     "output_type": "execute_result"
    }
   ],
   "source": [
    "s.astype('int64')"
   ]
  },
  {
   "cell_type": "code",
   "execution_count": 81,
   "id": "3e3b8cff",
   "metadata": {
    "scrolled": true
   },
   "outputs": [
    {
     "data": {
      "text/plain": [
       "array([0, 1, 2, 3, 4, 5, 6, 7, 8, 9, 10, 11, 12, 13, 14, 15, 16, 17, 18,\n",
       "       19], dtype=object)"
      ]
     },
     "execution_count": 81,
     "metadata": {},
     "output_type": "execute_result"
    }
   ],
   "source": [
    "s.astype(object)"
   ]
  },
  {
   "cell_type": "code",
   "execution_count": 88,
   "id": "745b51b7",
   "metadata": {},
   "outputs": [
    {
     "data": {
      "text/plain": [
       "array([ 0,  1,  2,  3,  4,  5,  6,  7,  8,  9, 10, 11, 12, 13, 14, 15, 16,\n",
       "       17, 18, 19])"
      ]
     },
     "execution_count": 88,
     "metadata": {},
     "output_type": "execute_result"
    }
   ],
   "source": [
    "s.astype(int)"
   ]
  },
  {
   "cell_type": "code",
   "execution_count": 89,
   "id": "eb9e5201",
   "metadata": {},
   "outputs": [
    {
     "data": {
      "text/plain": [
       "array([ 0,  1,  2,  3,  4,  5,  6,  7,  8,  9, 10, 11, 12, 13, 14, 15, 16,\n",
       "       17, 18, 19], dtype=int64)"
      ]
     },
     "execution_count": 89,
     "metadata": {},
     "output_type": "execute_result"
    }
   ],
   "source": [
    "s.astype('i8')"
   ]
  },
  {
   "cell_type": "code",
   "execution_count": 90,
   "id": "5eb62c4f",
   "metadata": {},
   "outputs": [
    {
     "data": {
      "text/plain": [
       "array([ 0,  1,  2,  3,  4,  5,  6,  7,  8,  9, 10, 11, 12, 13, 14, 15, 16,\n",
       "       17, 18, 19], dtype=int64)"
      ]
     },
     "execution_count": 90,
     "metadata": {},
     "output_type": "execute_result"
    }
   ],
   "source": [
    "s.astype(np.int64)"
   ]
  },
  {
   "cell_type": "code",
   "execution_count": null,
   "id": "957722cd",
   "metadata": {},
   "outputs": [],
   "source": []
  }
 ],
 "metadata": {
  "kernelspec": {
   "display_name": "Python 3 (ipykernel)",
   "language": "python",
   "name": "python3"
  },
  "language_info": {
   "codemirror_mode": {
    "name": "ipython",
    "version": 3
   },
   "file_extension": ".py",
   "mimetype": "text/x-python",
   "name": "python",
   "nbconvert_exporter": "python",
   "pygments_lexer": "ipython3",
   "version": "3.9.7"
  }
 },
 "nbformat": 4,
 "nbformat_minor": 5
}
